{
 "cells": [
  {
   "cell_type": "code",
   "execution_count": 1,
   "metadata": {},
   "outputs": [],
   "source": [
    "# Importamos las librerias \n",
    "import pandas as pd"
   ]
  },
  {
   "cell_type": "code",
   "execution_count": 2,
   "metadata": {},
   "outputs": [],
   "source": [
    "# Cargamos los datos \n",
    "items= pd.read_csv('./Data/items.csv')\n",
    "reviews= pd.read_csv('./Data/Reviews.csv')\n",
    "games= pd.read_csv('./Data/Steam_games.csv')\n",
    "users= pd.read_csv('./Data/Users.csv')"
   ]
  },
  {
   "cell_type": "code",
   "execution_count": 3,
   "metadata": {},
   "outputs": [],
   "source": [
    "'''En este Endpoint se nos puide devolver Cantidad de items y porcentaje de contenido Free por año según empresa desarrolladora'''\n",
    "def developer(desarrollador : str ):\n",
    "    # Primero filtramos los datos basandonos en el ID ingresado \n",
    "    filter_games=games[games['developer']== desarrollador]\n",
    "    # Una vez filtrado, agrupamos por año, y hacemos los calculos y creamos las colunmas neceesarias\n",
    "    filter_games=filter_games.groupby('release_year').agg(Cantidad_de_Items=('app_name', 'size'),\n",
    "                                             free_games=('price', lambda x: (x == 0.0).sum())).reset_index()\n",
    "    # Creamos la columna de cantidad de juegos free que hay por año\n",
    "    filter_games['Contenido Free']= round((filter_games['free_games']/filter_games['Cantidad_de_Items'])*100, 3)\n",
    "    # Creamos Un diccionario con un ciclo for que itere por cada fila del DataFrame\n",
    "    # Crea una entrada en el diccionario con un sub-diccionario que contiene la cantidad de items y el contenido free cada año\n",
    "    dic = {}\n",
    "    for _, row in filter_games.iterrows():\n",
    "        año = row['release_year']\n",
    "        cantidad_items = row['Cantidad_de_Items']\n",
    "        cont_free = row['Contenido Free']\n",
    "        \n",
    "        # Añadir la información al diccionario\n",
    "        dic[int(año)] = {\n",
    "            'Cantidad de items': int(cantidad_items),\n",
    "            'Contenido Free': cont_free\n",
    "        }\n",
    "    \n",
    "    return dic"
   ]
  },
  {
   "cell_type": "code",
   "execution_count": 4,
   "metadata": {},
   "outputs": [
    {
     "data": {
      "text/plain": [
       "{2013: {'Cantidad de items': 1, 'Contenido Free': 100.0},\n",
       " 2018: {'Cantidad de items': 5, 'Contenido Free': 0.0}}"
      ]
     },
     "execution_count": 4,
     "metadata": {},
     "output_type": "execute_result"
    }
   ],
   "source": [
    "# Mostramos un ejemplo \n",
    "fil= developer('Poppermost Productions')\n",
    "fil"
   ]
  },
  {
   "cell_type": "code",
   "execution_count": 5,
   "metadata": {},
   "outputs": [],
   "source": [
    "'''Para este endpoint se nos pide devolver cantidad de dinero gastado por el usuario, \n",
    "el porcentaje de recomendación en base a reviews.recommend y cantidad de items'''\n",
    "\n",
    "def userdata( User_id : str ):\n",
    "    #Seleccionamos las colunas que nos interesan \n",
    "    game=games[['id', 'price']]\n",
    "    # Filtramos la infromacion de los Usuarios, basandose en el usuario ingresado \n",
    "    user= users[users['user_id']== User_id]\n",
    "    # Calculamos el porcentaje de recomendacion de los usuarios \n",
    "    por_recommed= round((user['recommend_yes']/(user['recommend_yes']+user['recommend_not']))*100,2).iloc[0]\n",
    "    # Filtramsos los juegos que tiene ese usuario \n",
    "    item_filter= items[items['users_id']==User_id]\n",
    "    # Hacemos la union de los datos obtenidos\n",
    "    item_filter= item_filter.merge(game, left_on='item_id', right_on='id', how='inner')\n",
    "    # Calculamos las estadisticas por usuario, como la cantidad de tiempo jugado y la suma del valor de todos los juegos  \n",
    "    item_filter= item_filter.groupby('users_id').agg({'playtime_forever':'sum',\n",
    "                                                      'price':'sum'}).reset_index()\n",
    "    # Creamos las variables para armar el diccionario y retornarlo\n",
    "    usuario= item_filter['users_id'].iloc[0]\n",
    "    tiempo= item_filter['playtime_forever'].iloc[0]\n",
    "    dinero= item_filter['price'].iloc[0]\n",
    "    # Se retorna el diccionario \n",
    "    return {'Usuario': usuario, 'Dinero invertido': round(dinero,2), 'Tota horas de juego': tiempo,\"% de recomendación\":por_recommed}"
   ]
  },
  {
   "cell_type": "code",
   "execution_count": 6,
   "metadata": {},
   "outputs": [
    {
     "data": {
      "text/plain": [
       "{'Usuario': 'kube134',\n",
       " 'Dinero invertido': 5451.87,\n",
       " 'Tota horas de juego': 80061.0,\n",
       " '% de recomendación': 100.0}"
      ]
     },
     "execution_count": 6,
     "metadata": {},
     "output_type": "execute_result"
    }
   ],
   "source": [
    "# Mostramos un ejemplo \n",
    "fil2= userdata('kube134')\n",
    "fil2"
   ]
  },
  {
   "cell_type": "code",
   "execution_count": 7,
   "metadata": {},
   "outputs": [],
   "source": [
    "'''Para este endpoint se nos pide Debe devolver el usuario que \n",
    "acumula más horas jugadas para el género dado y una lista de la acumulación \n",
    "de horas jugadas por año de lanzamiento'''\n",
    "\n",
    "def UserForGenre(genre: str):\n",
    "    # Selecionamos las columnas que vamos a usar\n",
    "    item = items[['item_id', 'playtime_forever', 'users_id']]\n",
    "    game = games[['id', 'principal_genre', 'release_year']]\n",
    "    # Filtramos los datos basandonos en el genero del juego \n",
    "    game = game[game['principal_genre'] == genre]\n",
    "    # Hacemo un merge con los datos para tener toda la informacion en un solo dataframe\n",
    "    filter_game = game.merge(item, left_on='id', right_on='item_id', how='inner')\n",
    "    # Agrupamos y hacemos los calculos\n",
    "    user_year= filter_game.groupby(['users_id','release_year']).agg({'playtime_forever': 'sum'}).reset_index()\n",
    "    # Sacamos el usuaro con mas horas jugadas\n",
    "    max_user= filter_game['users_id'].iloc[0]\n",
    "    # Filtramos los datos basandonos en el maxio usuario\n",
    "    user_playtime_by_year = user_year[user_year['users_id'] == max_user][['release_year', 'playtime_forever']]\n",
    "    # Cambiamos el nombre delas columnas\n",
    "    user_playtime_by_year.rename(columns={'release_year':'Año','playtime_forever':'Tiempo Jugado'}, inplace=True)\n",
    "    # Transformamos el dataframe en un diccionario para retornarlo\n",
    "    year_playtime= user_playtime_by_year.to_dict('records')\n",
    "    # Hacemo el return \n",
    "    return {\"Usuario con más horas jugadas para Género \" + genre: max_user, \"Horas jugadas\": year_playtime}\n",
    "    "
   ]
  },
  {
   "cell_type": "code",
   "execution_count": 8,
   "metadata": {},
   "outputs": [
    {
     "data": {
      "text/plain": [
       "{'Usuario con más horas jugadas para Género Indie': 'js41637',\n",
       " 'Horas jugadas': [{'Año': 2005, 'Tiempo Jugado': 0.0},\n",
       "  {'Año': 2006, 'Tiempo Jugado': 412.0},\n",
       "  {'Año': 2007, 'Tiempo Jugado': 0.0},\n",
       "  {'Año': 2008, 'Tiempo Jugado': 435.0},\n",
       "  {'Año': 2009, 'Tiempo Jugado': 135.0},\n",
       "  {'Año': 2010, 'Tiempo Jugado': 184.0},\n",
       "  {'Año': 2011, 'Tiempo Jugado': 270.0},\n",
       "  {'Año': 2012, 'Tiempo Jugado': 1323.0},\n",
       "  {'Año': 2013, 'Tiempo Jugado': 1881.0},\n",
       "  {'Año': 2014, 'Tiempo Jugado': 1073.0},\n",
       "  {'Año': 2015, 'Tiempo Jugado': 5175.0},\n",
       "  {'Año': 2016, 'Tiempo Jugado': 1395.0}]}"
      ]
     },
     "execution_count": 8,
     "metadata": {},
     "output_type": "execute_result"
    }
   ],
   "source": [
    "fil3=UserForGenre('Indie')\n",
    "fil3"
   ]
  },
  {
   "cell_type": "code",
   "execution_count": 9,
   "metadata": {},
   "outputs": [],
   "source": [
    "'''En este endpoint se nos pide Devuelve el top 3 de desarrolladores con juegos MÁS recomendados \n",
    "por usuarios para el año dado'''\n",
    "def best_developer_year( año : int ):\n",
    "    # Seleccionamos las columnas necesarias\n",
    "    game=games[['developer','app_name','id','principal_genre','release_year']]\n",
    "    review=reviews[['item_id','senti_positivo']]\n",
    "    # Filtramos los datos \n",
    "    game=game[game['release_year']== año]\n",
    "    # Hacemos el merge de la informacion para tenerla junta y operar en ella\n",
    "    reviews_filter= game.merge(review, left_on='id', right_on='item_id', how= 'inner') \n",
    "    # Seleccionamos las columnas con la informacion que necesitemos\n",
    "    reviews_filter= reviews_filter[['developer','app_name','senti_positivo']]\n",
    "    # Agrupamos y hacemos los calculos\n",
    "    reviews_filter=reviews_filter.groupby(['developer']).agg({'senti_positivo':'sum'}).reset_index()\n",
    "    # Una vez hechos los calculos Ordemamos los datos para sacer el top 3\n",
    "    reviews_filter= reviews_filter.sort_values(by= 'senti_positivo', ascending= False)\n",
    "    # Creamos las variables para el diccionario\n",
    "    developer= list(reviews_filter.iloc[:,0])\n",
    "    positive=list(reviews_filter.iloc[:,1])\n",
    "    # Retornamos el diccionario\n",
    "    return [{'Top 1': [{'Developer':developer[0]},{'Reviews positive':positive[0]}]},\n",
    "            {'Top 2': [{'Developer':developer[1]},{'Reviews positive':positive[1]}]},\n",
    "            {'Top 3': [{'Developer':developer[2]},{'Reviews positive':positive[2]}]}]"
   ]
  },
  {
   "cell_type": "code",
   "execution_count": 10,
   "metadata": {},
   "outputs": [
    {
     "data": {
      "text/plain": [
       "[{'Top 1': [{'Developer': 'Valve'}, {'Reviews positive': 294}]},\n",
       " {'Top 2': [{'Developer': 'The Creative Assembly'}, {'Reviews positive': 10}]},\n",
       " {'Top 3': [{'Developer': 'Troika Games'}, {'Reviews positive': 4}]}]"
      ]
     },
     "execution_count": 10,
     "metadata": {},
     "output_type": "execute_result"
    }
   ],
   "source": [
    "# Hacemos un ejemplo \n",
    "fil4= best_developer_year(2004)\n",
    "fil4"
   ]
  },
  {
   "cell_type": "code",
   "execution_count": 11,
   "metadata": {},
   "outputs": [],
   "source": [
    "'''Para este endpoint se nos pide Según el desarrollador, se devuelve un diccionario con el nombre del desarrollador \n",
    "como llave y una lista con la cantidad total de registros de reseñas de usuarios que se \n",
    "encuentren categorizados con un análisis de sentimiento como valor positivo o negativo'''\n",
    "def developer_reviews_analysis( desarrolladora : str ):\n",
    "    # Seleccionaos las columnas que vamos a usar\n",
    "    game= games[['id','developer']]\n",
    "    review= reviews[['item_id', 'senti_negativo','senti_positivo']]\n",
    "    # Filtramos los datos por el desarrollador en cuestion \n",
    "    game= game[game['developer']== desarrolladora]\n",
    "    # Hacemos la unidos de los datos para trabajar sobre ellos \n",
    "    game_filter= game.merge(review, left_on='id', right_on='item_id', how='inner')\n",
    "    # Agrupamos y calculamos el total de reviews positivas y negativas por desarrollador\n",
    "    game_filter= game_filter.groupby('developer').agg({'senti_negativo':'sum',\n",
    "                                                       'senti_positivo':'sum'}).reset_index()\n",
    "    # Creamos las variables para el diccionario\n",
    "    developer= game_filter['developer'].iloc[0]\n",
    "    review_neg= game_filter['senti_negativo'].iloc[0]\n",
    "    review_pos= game_filter['senti_positivo'].iloc[0]\n",
    "    # Retornamos el diccionario \n",
    "    return {developer:[{'Positivas': review_pos},{'Negativas':review_neg}]}"
   ]
  },
  {
   "cell_type": "code",
   "execution_count": 12,
   "metadata": {},
   "outputs": [
    {
     "data": {
      "text/plain": [
       "{'Bethesda Game Studios': [{'Positivas': 228}, {'Negativas': 77}]}"
      ]
     },
     "execution_count": 12,
     "metadata": {},
     "output_type": "execute_result"
    }
   ],
   "source": [
    "# Mostramos un ejemplo\n",
    "fil5= developer_reviews_analysis('Bethesda Game Studios')\n",
    "fil5"
   ]
  },
  {
   "cell_type": "code",
   "execution_count": 13,
   "metadata": {},
   "outputs": [],
   "source": [
    "'''Para este endpoint se nos pide armar un sistema de recomendacion un juego ingresado, \n",
    "Se arma el sistema de recomendacion implementando el modelo de la similitud del coseno '''\n",
    "\n",
    "# Importamos las librerias para la implentacion del modelo \n",
    "from sklearn.feature_extraction.text import TfidfVectorizer\n",
    "from sklearn.metrics.pairwise import cosine_similarity\n",
    "\n",
    "\n",
    "def recomendacion_juego(id_de_producto: int):\n",
    "    # Encrontramos el juego que se ingreso \n",
    "    atributos = games[games['id'] == id_de_producto]\n",
    "    # Hacemo un condcional para que indique si se encontro el juego \n",
    "    if atributos.empty:\n",
    "        return 'No se encontró un juego con el ID proporcionado, prueba otro ID.'\n",
    "    \n",
    "    # Ahora una vez teniendo el juego se filtran los datos basandonos en el genero del juego ingresado \n",
    "    juegos = games[games['principal_genre'] == atributos['principal_genre'].iloc[0]]\n",
    "    # Seleccionamos las colunmas que necesitemos \n",
    "    juegos= juegos[['app_name','principal_genre','principal_tag','principal_spec']]\n",
    "    # Creamo una columna con las caracteristicas de los juegos \n",
    "    juegos['caracteristicas'] = juegos[['principal_genre', 'principal_tag', 'principal_spec']].apply(lambda row: '-'.join(row.values.astype(str)), axis=1)\n",
    "    # Seleccionamos los primeros 1000 juegos \n",
    "    juegos= juegos[['app_name','caracteristicas']].iloc[:1001,:]\n",
    "    # inicialozamos el TfidVetorizer \n",
    "    vector= TfidfVectorizer()\n",
    "    # Y le pasamos las columma de caracteristicas de los juegos para entrenarlo\n",
    "    matriz= vector.fit_transform(juegos['caracteristicas'])\n",
    "    # Calculamos la matriz de similitud del coseno, que nos da un inidice entre 0 y 1, mas cerca del 1 mas similitud\n",
    "    matriz_similaridad= cosine_similarity(matriz)\n",
    "    # Buscamos el indice del juego que ingresamos \n",
    "    indice_juego = juegos.index[juegos['app_name'] == atributos['app_name'].iloc[0]].tolist()[0]\n",
    "    # Enumeramos cada juego con su inidice de similitud \n",
    "    similares = list(enumerate(matriz_similaridad[indice_juego]))\n",
    "    # Ordemanos de mayor a menor \n",
    "    similaridades = sorted(similares, key=lambda x: x[1], reverse=True)[1:6]\n",
    "    # Y creamo una lista con los 5 juegos mas similares al juego que ingresamos \n",
    "    juegos_recomendados = [juegos.iloc[i[0]]['app_name'] for i in similaridades]\n",
    "    # Retornamos la lista de juegos\n",
    "    return {'Juegos similares que te pueden interesar': juegos_recomendados}\n",
    "    "
   ]
  },
  {
   "cell_type": "code",
   "execution_count": 14,
   "metadata": {},
   "outputs": [
    {
     "data": {
      "text/plain": [
       "{'Juegos similares que te pueden interesar': ['Ghost Master®',\n",
       "  'Vegas: Make It Big™',\n",
       "  'CivCity: Rome',\n",
       "  'Civilization IV®: Warlords',\n",
       "  'Railroad Tycoon 3']}"
      ]
     },
     "execution_count": 14,
     "metadata": {},
     "output_type": "execute_result"
    }
   ],
   "source": [
    "# Mostramos un ejemplo\n",
    "fil6= recomendacion_juego(25830)\n",
    "fil6"
   ]
  },
  {
   "cell_type": "code",
   "execution_count": 15,
   "metadata": {},
   "outputs": [],
   "source": [
    "'''Para este endpoint se nos pide algo similiar al anterior, en esta ocasion se pide armar un sistema de recomendacion pero no basado en un juego ingresado, \n",
    "sino en un usuario, se arma el sistema de recomendacion implementando el modelo de la similitud del coseno nuevamente '''\n",
    "def recomendacion_usuario( id_de_usuario: str):\n",
    "    # Seleccionamos las colunmas a usar \n",
    "    items[['item_id','users_id']]\n",
    "    # Filtramos los datos por el usuario ingresado \n",
    "    item= items[items['users_id']==id_de_usuario]\n",
    "    # Tomo mamos los ID´s de los juegos del usuario \n",
    "    ids= item['item_id']\n",
    "    # Unimos la informacion\n",
    "    item= item.merge(games, left_on='item_id', right_on='id', how= 'inner')\n",
    "    # Selecionamos las columnas a usar \n",
    "    item= item[['principal_genre','item_id']]\n",
    "    # hacemos una listo con los generos de los juegos que juega el usuario ingresado \n",
    "    genre= pd.DataFrame(item['principal_genre'].value_counts())[:2]\n",
    "    # hacemos la lista con los generos\n",
    "    genre= genre.index.tolist()\n",
    "    # Ahora buscamos los juegos con esos generos para sacar sus caracteristicas\n",
    "    game= games[games['principal_genre'].isin(genre)][['app_name','id','principal_genre','principal_tag','principal_spec']]\n",
    "    # De esos juegos sacamos los juegos que el usuario ya tiene y seleccionamos 1000 juegos d la base de datos \n",
    "    game= game[~game['id'].isin(ids.tolist())].iloc[:1001,:]\n",
    "    # Creamoa la columna con las caracteristicas con las caracteristicas de los juegos \n",
    "    game['caracteristicas']= game[['principal_genre', 'principal_tag', 'principal_spec']].apply(lambda row: '-'.join(row.values.astype(str)), axis=1)\n",
    "    # Seleccioamos las columnas necesarias\n",
    "    game=game[['app_name','id','caracteristicas']]\n",
    "    # Inicamo el TfidVectorizer \n",
    "    vector= TfidfVectorizer()\n",
    "    # Lo entrenamos con las caracteristicas \n",
    "    matriz= vector.fit_transform(game['caracteristicas'])\n",
    "    # Calculamos el coeficiente de similitud \n",
    "    matriz_similaridad= cosine_similarity(matriz)\n",
    "    # Aqui en listamos cada juego con su coeficiente\n",
    "    '''OBSERVACION, en este caso no enlistamos juegos basandonos en un juego que ingresamos por eso no usaos el indice de juego como en el endpoint anterior,\n",
    "    por lo que no buscamos juegos que se parezcan a un juego en especial, sino que se parezan entre si para darselos al usuario'''\n",
    "    similares = list(enumerate(matriz_similaridad))\n",
    "    # Seleccionamos los 5 juegos \n",
    "    similaridades = sorted(similares, key=lambda x: x[0], reverse=True)[1:6]\n",
    "    # Hacemos una lista con los juegos\n",
    "    juegos_recomendados = [game.iloc[i[0]]['app_name'] for i in similaridades]\n",
    "    # Retornamos los juegos \n",
    "    return {'Juegos similares que te pueden interesar a ti ' + id_de_usuario: juegos_recomendados}"
   ]
  },
  {
   "cell_type": "code",
   "execution_count": 16,
   "metadata": {},
   "outputs": [
    {
     "data": {
      "text/plain": [
       "{'Juegos similares que te pueden interesar a ti thequeenpanda': ['White Noise Online',\n",
       "  'Retro Game Crunch',\n",
       "  'Paradigm Shift',\n",
       "  'Sweet Lily Dreams',\n",
       "  'Toribash']}"
      ]
     },
     "execution_count": 16,
     "metadata": {},
     "output_type": "execute_result"
    }
   ],
   "source": [
    "# Mostramos un ejemplo\n",
    "fil7= recomendacion_usuario('thequeenpanda')\n",
    "fil7"
   ]
  }
 ],
 "metadata": {
  "kernelspec": {
   "display_name": "Python 3",
   "language": "python",
   "name": "python3"
  },
  "language_info": {
   "codemirror_mode": {
    "name": "ipython",
    "version": 3
   },
   "file_extension": ".py",
   "mimetype": "text/x-python",
   "name": "python",
   "nbconvert_exporter": "python",
   "pygments_lexer": "ipython3",
   "version": "3.11.4"
  }
 },
 "nbformat": 4,
 "nbformat_minor": 2
}
